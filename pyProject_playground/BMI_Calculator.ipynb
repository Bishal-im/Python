{
 "cells": [
  {
   "cell_type": "markdown",
   "id": "023412f8-1b17-41c7-b9ba-9e2a282d3c68",
   "metadata": {},
   "source": [
    "BMI Calculator"
   ]
  },
  {
   "cell_type": "code",
   "execution_count": 17,
   "id": "62ddc9c9-c3a7-4e8d-8c84-aa86e9b4f5eb",
   "metadata": {},
   "outputs": [
    {
     "name": "stdout",
     "output_type": "stream",
     "text": [
      "Enter your name:  44\n",
      "Enter your current weight in pounds:  44\n",
      "Enter your height in inches:  44\n"
     ]
    },
    {
     "name": "stdout",
     "output_type": "stream",
     "text": [
      "\n",
      "Your Current Body Mass Index (BMI): 15.98 \n",
      "\n",
      "44, you are underweight.\n"
     ]
    }
   ],
   "source": [
    "name = input(\"Enter your name: \")\n",
    "\n",
    "weight = float(input(\"Enter your current weight in pounds: \"))\n",
    "height = float(input(\"Enter your height in inches: \"))\n",
    "\n",
    "bmi = (weight * 703) / (height * height)\n",
    "\n",
    "print(\"\\nYour Current Body Mass Index (BMI):\", round(bmi, 2) , \"\\n\")\n",
    "\n",
    "if bmi > 0:\n",
    "    if bmi < 18.5:\n",
    "        print(name + \", you are underweight.\")\n",
    "    elif bmi <= 24.9:\n",
    "        print(name + \", you are normal weight.\")\n",
    "    elif bmi <= 29.9:\n",
    "        print(name + \", you are overweight. You need to exercise more and stop sitting and writing so many Codes 😄\")\n",
    "    elif bmi <= 34.9:\n",
    "        print(name + \", you are obese.\")\n",
    "    elif bmi <= 39.9:\n",
    "        print(name + \", you are severely obese.\")\n",
    "    else:\n",
    "        print(name + \", you are morbidly obese.\")\n",
    "else:\n",
    "    print(\"Enter valid input.\")\n",
    "\n"
   ]
  },
  {
   "cell_type": "code",
   "execution_count": null,
   "id": "ba342cae-d1ac-4970-9008-0ff0d68c252a",
   "metadata": {},
   "outputs": [],
   "source": []
  },
  {
   "cell_type": "code",
   "execution_count": null,
   "id": "abed5375-d429-40fe-a620-143fa780fcf3",
   "metadata": {},
   "outputs": [],
   "source": []
  },
  {
   "cell_type": "code",
   "execution_count": null,
   "id": "d5e96f92-0446-4987-ac1a-f483ec84f45a",
   "metadata": {},
   "outputs": [],
   "source": []
  },
  {
   "cell_type": "code",
   "execution_count": null,
   "id": "9365508f",
   "metadata": {},
   "outputs": [],
   "source": []
  },
  {
   "cell_type": "code",
   "execution_count": null,
   "id": "1e047427-a148-4366-ab9e-008f4bda00b4",
   "metadata": {},
   "outputs": [],
   "source": []
  },
  {
   "cell_type": "code",
   "execution_count": 6,
   "id": "844db917-87b7-4f24-9858-421327019eb8",
   "metadata": {},
   "outputs": [],
   "source": [
    "#BMI = (weight * 703) / (height * height)"
   ]
  },
  {
   "cell_type": "code",
   "execution_count": null,
   "id": "9404b27b-895c-4d0b-8134-3f4f3c646353",
   "metadata": {},
   "outputs": [],
   "source": []
  },
  {
   "cell_type": "code",
   "execution_count": 19,
   "id": "27983a5c-ccd5-473f-ac12-be353ea379ec",
   "metadata": {},
   "outputs": [],
   "source": [
    "# Under 18.5\tUnderweight\tMinimal\n",
    "# 18.5 - 24.9\tNormal Weight\tMinimal\n",
    "# 25 - 29.9\tOverweight\tIncreased\n",
    "# 30 - 34.9\tObese\tHigh\n",
    "# 35 - 39.9\tSeverely Obese\tVery High\n",
    "# 40 and over\tMorbidly Obese\tExtremely High"
   ]
  },
  {
   "cell_type": "code",
   "execution_count": null,
   "id": "a59757f3-caea-4d83-9aca-77e60f6bb0ae",
   "metadata": {},
   "outputs": [],
   "source": []
  },
  {
   "cell_type": "code",
   "execution_count": null,
   "id": "6153d5a5-fa49-4f42-84be-ccd3a9db8db7",
   "metadata": {},
   "outputs": [],
   "source": []
  },
  {
   "cell_type": "code",
   "execution_count": null,
   "id": "6d906ad7-5692-4c10-bf32-198a07961336",
   "metadata": {},
   "outputs": [],
   "source": []
  }
 ],
 "metadata": {
  "kernelspec": {
   "display_name": "Python [conda env:base] *",
   "language": "python",
   "name": "conda-base-py"
  },
  "language_info": {
   "codemirror_mode": {
    "name": "ipython",
    "version": 3
   },
   "file_extension": ".py",
   "mimetype": "text/x-python",
   "name": "python",
   "nbconvert_exporter": "python",
   "pygments_lexer": "ipython3",
   "version": "3.13.5"
  }
 },
 "nbformat": 4,
 "nbformat_minor": 5
}
